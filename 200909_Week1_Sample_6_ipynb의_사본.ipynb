{
  "nbformat": 4,
  "nbformat_minor": 0,
  "metadata": {
    "colab": {
      "name": "200909_Week1_Sample_6.ipynb의 사본",
      "provenance": [],
      "collapsed_sections": [],
      "authorship_tag": "ABX9TyMFLVPDoMmzg1rRoDEuLJZB",
      "include_colab_link": true
    },
    "kernelspec": {
      "name": "python3",
      "display_name": "Python 3"
    }
  },
  "cells": [
    {
      "cell_type": "markdown",
      "metadata": {
        "id": "view-in-github",
        "colab_type": "text"
      },
      "source": [
        "<a href=\"https://colab.research.google.com/github/ikeyada/Fast-Campus-LOP/blob/master/200909_Week1_Sample_6_ipynb%EC%9D%98_%EC%82%AC%EB%B3%B8.ipynb\" target=\"_parent\"><img src=\"https://colab.research.google.com/assets/colab-badge.svg\" alt=\"Open In Colab\"/></a>"
      ]
    },
    {
      "cell_type": "code",
      "metadata": {
        "id": "hi4Xu7DXUJVH",
        "colab_type": "code",
        "colab": {
          "base_uri": "https://localhost:8080/",
          "height": 35
        },
        "outputId": "a2772a1f-9ee5-4881-b3c9-7d6a39f4d181"
      },
      "source": [
        "import io\n",
        "import pandas as pd\n",
        "\n",
        "from google.colab import drive\n",
        "drive.mount('/content/drive')"
      ],
      "execution_count": 60,
      "outputs": [
        {
          "output_type": "stream",
          "text": [
            "Drive already mounted at /content/drive; to attempt to forcibly remount, call drive.mount(\"/content/drive\", force_remount=True).\n"
          ],
          "name": "stdout"
        }
      ]
    },
    {
      "cell_type": "code",
      "metadata": {
        "id": "UHt78C3sUaas",
        "colab_type": "code",
        "colab": {
          "base_uri": "https://localhost:8080/",
          "height": 204
        },
        "outputId": "18a1a45d-6d9e-4d15-c620-dc25973e2ed9"
      },
      "source": [
        "filename = '/content/drive/My Drive/Sample_6 Item.csv'\n",
        "data = pd.read_csv(filename)\n",
        "data.head()"
      ],
      "execution_count": 61,
      "outputs": [
        {
          "output_type": "execute_result",
          "data": {
            "text/html": [
              "<div>\n",
              "<style scoped>\n",
              "    .dataframe tbody tr th:only-of-type {\n",
              "        vertical-align: middle;\n",
              "    }\n",
              "\n",
              "    .dataframe tbody tr th {\n",
              "        vertical-align: top;\n",
              "    }\n",
              "\n",
              "    .dataframe thead th {\n",
              "        text-align: right;\n",
              "    }\n",
              "</style>\n",
              "<table border=\"1\" class=\"dataframe\">\n",
              "  <thead>\n",
              "    <tr style=\"text-align: right;\">\n",
              "      <th></th>\n",
              "      <th>월</th>\n",
              "      <th>항목</th>\n",
              "      <th>국가</th>\n",
              "      <th>지역</th>\n",
              "      <th>Value</th>\n",
              "    </tr>\n",
              "  </thead>\n",
              "  <tbody>\n",
              "    <tr>\n",
              "      <th>0</th>\n",
              "      <td>201903</td>\n",
              "      <td>11</td>\n",
              "      <td>보스니아-헤르체고비나</td>\n",
              "      <td>충남 천안시</td>\n",
              "      <td>0.2110</td>\n",
              "    </tr>\n",
              "    <tr>\n",
              "      <th>1</th>\n",
              "      <td>201903</td>\n",
              "      <td>11</td>\n",
              "      <td>중국</td>\n",
              "      <td>경기 성남시</td>\n",
              "      <td>0.6500</td>\n",
              "    </tr>\n",
              "    <tr>\n",
              "      <th>2</th>\n",
              "      <td>201903</td>\n",
              "      <td>11</td>\n",
              "      <td>대만</td>\n",
              "      <td>서울 송파구</td>\n",
              "      <td>0.0003</td>\n",
              "    </tr>\n",
              "    <tr>\n",
              "      <th>3</th>\n",
              "      <td>201903</td>\n",
              "      <td>11</td>\n",
              "      <td>이탈리아</td>\n",
              "      <td>서울 노원구</td>\n",
              "      <td>0.2030</td>\n",
              "    </tr>\n",
              "    <tr>\n",
              "      <th>4</th>\n",
              "      <td>201903</td>\n",
              "      <td>11</td>\n",
              "      <td>도미니카 공화국</td>\n",
              "      <td>충남 천안시</td>\n",
              "      <td>0.1708</td>\n",
              "    </tr>\n",
              "  </tbody>\n",
              "</table>\n",
              "</div>"
            ],
            "text/plain": [
              "        월  항목           국가      지역   Value\n",
              "0  201903  11  보스니아-헤르체고비나  충남 천안시  0.2110\n",
              "1  201903  11           중국  경기 성남시  0.6500\n",
              "2  201903  11           대만  서울 송파구  0.0003\n",
              "3  201903  11         이탈리아  서울 노원구  0.2030\n",
              "4  201903  11     도미니카 공화국  충남 천안시  0.1708"
            ]
          },
          "metadata": {
            "tags": []
          },
          "execution_count": 61
        }
      ]
    },
    {
      "cell_type": "code",
      "metadata": {
        "id": "Wy937aaLI2ws",
        "colab_type": "code",
        "colab": {
          "base_uri": "https://localhost:8080/",
          "height": 35
        },
        "outputId": "11b11fbb-ca8f-4b3d-a080-53402a445077"
      },
      "source": [
        "print(data.shape)"
      ],
      "execution_count": 4,
      "outputs": [
        {
          "output_type": "stream",
          "text": [
            "(9685, 5)\n"
          ],
          "name": "stdout"
        }
      ]
    },
    {
      "cell_type": "code",
      "metadata": {
        "id": "zpY1Ude5ZvLX",
        "colab_type": "code",
        "colab": {
          "base_uri": "https://localhost:8080/",
          "height": 233
        },
        "outputId": "2e7924a7-6380-4299-e0d6-41ac05613bed"
      },
      "source": [
        "data['지역'].isin([\"강원 춘천시\"])"
      ],
      "execution_count": 7,
      "outputs": [
        {
          "output_type": "execute_result",
          "data": {
            "text/plain": [
              "0       False\n",
              "1       False\n",
              "2       False\n",
              "3       False\n",
              "4       False\n",
              "        ...  \n",
              "9680    False\n",
              "9681    False\n",
              "9682    False\n",
              "9683    False\n",
              "9684    False\n",
              "Name: 지역, Length: 9685, dtype: bool"
            ]
          },
          "metadata": {
            "tags": []
          },
          "execution_count": 7
        }
      ]
    },
    {
      "cell_type": "code",
      "metadata": {
        "id": "tAnZFvWea0O8",
        "colab_type": "code",
        "colab": {
          "base_uri": "https://localhost:8080/",
          "height": 419
        },
        "outputId": "b6e96355-1cbb-47db-c45c-ac20f88db76b"
      },
      "source": [
        "data[data['지역'].isin([\"강원 춘천시\"])]"
      ],
      "execution_count": 8,
      "outputs": [
        {
          "output_type": "execute_result",
          "data": {
            "text/html": [
              "<div>\n",
              "<style scoped>\n",
              "    .dataframe tbody tr th:only-of-type {\n",
              "        vertical-align: middle;\n",
              "    }\n",
              "\n",
              "    .dataframe tbody tr th {\n",
              "        vertical-align: top;\n",
              "    }\n",
              "\n",
              "    .dataframe thead th {\n",
              "        text-align: right;\n",
              "    }\n",
              "</style>\n",
              "<table border=\"1\" class=\"dataframe\">\n",
              "  <thead>\n",
              "    <tr style=\"text-align: right;\">\n",
              "      <th></th>\n",
              "      <th>월</th>\n",
              "      <th>항목</th>\n",
              "      <th>국가</th>\n",
              "      <th>지역</th>\n",
              "      <th>Value</th>\n",
              "    </tr>\n",
              "  </thead>\n",
              "  <tbody>\n",
              "    <tr>\n",
              "      <th>323</th>\n",
              "      <td>201905</td>\n",
              "      <td>11</td>\n",
              "      <td>미국</td>\n",
              "      <td>강원 춘천시</td>\n",
              "      <td>0.7917</td>\n",
              "    </tr>\n",
              "    <tr>\n",
              "      <th>463</th>\n",
              "      <td>201907</td>\n",
              "      <td>11</td>\n",
              "      <td>미국</td>\n",
              "      <td>강원 춘천시</td>\n",
              "      <td>0.8603</td>\n",
              "    </tr>\n",
              "    <tr>\n",
              "      <th>817</th>\n",
              "      <td>201910</td>\n",
              "      <td>11</td>\n",
              "      <td>미국</td>\n",
              "      <td>강원 춘천시</td>\n",
              "      <td>1.6459</td>\n",
              "    </tr>\n",
              "    <tr>\n",
              "      <th>991</th>\n",
              "      <td>202001</td>\n",
              "      <td>11</td>\n",
              "      <td>미국</td>\n",
              "      <td>강원 춘천시</td>\n",
              "      <td>0.8549</td>\n",
              "    </tr>\n",
              "    <tr>\n",
              "      <th>1109</th>\n",
              "      <td>202002</td>\n",
              "      <td>11</td>\n",
              "      <td>미국</td>\n",
              "      <td>강원 춘천시</td>\n",
              "      <td>0.5765</td>\n",
              "    </tr>\n",
              "    <tr>\n",
              "      <th>...</th>\n",
              "      <td>...</td>\n",
              "      <td>...</td>\n",
              "      <td>...</td>\n",
              "      <td>...</td>\n",
              "      <td>...</td>\n",
              "    </tr>\n",
              "    <tr>\n",
              "      <th>5430</th>\n",
              "      <td>202006</td>\n",
              "      <td>33</td>\n",
              "      <td>몰디브</td>\n",
              "      <td>강원 춘천시</td>\n",
              "      <td>0.3182</td>\n",
              "    </tr>\n",
              "    <tr>\n",
              "      <th>5431</th>\n",
              "      <td>202006</td>\n",
              "      <td>33</td>\n",
              "      <td>아랍에미리트 연합</td>\n",
              "      <td>강원 춘천시</td>\n",
              "      <td>0.0003</td>\n",
              "    </tr>\n",
              "    <tr>\n",
              "      <th>5432</th>\n",
              "      <td>202006</td>\n",
              "      <td>33</td>\n",
              "      <td>인도</td>\n",
              "      <td>강원 춘천시</td>\n",
              "      <td>1.3429</td>\n",
              "    </tr>\n",
              "    <tr>\n",
              "      <th>5437</th>\n",
              "      <td>202006</td>\n",
              "      <td>33</td>\n",
              "      <td>말리</td>\n",
              "      <td>강원 춘천시</td>\n",
              "      <td>0.1306</td>\n",
              "    </tr>\n",
              "    <tr>\n",
              "      <th>5440</th>\n",
              "      <td>202006</td>\n",
              "      <td>33</td>\n",
              "      <td>바레인</td>\n",
              "      <td>강원 춘천시</td>\n",
              "      <td>0.0167</td>\n",
              "    </tr>\n",
              "  </tbody>\n",
              "</table>\n",
              "<p>1487 rows × 5 columns</p>\n",
              "</div>"
            ],
            "text/plain": [
              "           월  항목         국가      지역   Value\n",
              "323   201905  11         미국  강원 춘천시  0.7917\n",
              "463   201907  11         미국  강원 춘천시  0.8603\n",
              "817   201910  11         미국  강원 춘천시  1.6459\n",
              "991   202001  11         미국  강원 춘천시  0.8549\n",
              "1109  202002  11         미국  강원 춘천시  0.5765\n",
              "...      ...  ..        ...     ...     ...\n",
              "5430  202006  33        몰디브  강원 춘천시  0.3182\n",
              "5431  202006  33  아랍에미리트 연합  강원 춘천시  0.0003\n",
              "5432  202006  33         인도  강원 춘천시  1.3429\n",
              "5437  202006  33         말리  강원 춘천시  0.1306\n",
              "5440  202006  33        바레인  강원 춘천시  0.0167\n",
              "\n",
              "[1487 rows x 5 columns]"
            ]
          },
          "metadata": {
            "tags": []
          },
          "execution_count": 8
        }
      ]
    },
    {
      "cell_type": "code",
      "metadata": {
        "id": "DTU_3uG_gKJ9",
        "colab_type": "code",
        "colab": {
          "base_uri": "https://localhost:8080/",
          "height": 419
        },
        "outputId": "f680a077-5307-4c6a-8e0f-d9c951686d68"
      },
      "source": [
        "data[data['지역'].isin([\"강원 춘천시\",\"경기 용인시\"])]"
      ],
      "execution_count": 10,
      "outputs": [
        {
          "output_type": "execute_result",
          "data": {
            "text/html": [
              "<div>\n",
              "<style scoped>\n",
              "    .dataframe tbody tr th:only-of-type {\n",
              "        vertical-align: middle;\n",
              "    }\n",
              "\n",
              "    .dataframe tbody tr th {\n",
              "        vertical-align: top;\n",
              "    }\n",
              "\n",
              "    .dataframe thead th {\n",
              "        text-align: right;\n",
              "    }\n",
              "</style>\n",
              "<table border=\"1\" class=\"dataframe\">\n",
              "  <thead>\n",
              "    <tr style=\"text-align: right;\">\n",
              "      <th></th>\n",
              "      <th>월</th>\n",
              "      <th>항목</th>\n",
              "      <th>국가</th>\n",
              "      <th>지역</th>\n",
              "      <th>Value</th>\n",
              "    </tr>\n",
              "  </thead>\n",
              "  <tbody>\n",
              "    <tr>\n",
              "      <th>5</th>\n",
              "      <td>201903</td>\n",
              "      <td>11</td>\n",
              "      <td>파키스탄</td>\n",
              "      <td>경기 용인시</td>\n",
              "      <td>0.0938</td>\n",
              "    </tr>\n",
              "    <tr>\n",
              "      <th>14</th>\n",
              "      <td>201903</td>\n",
              "      <td>11</td>\n",
              "      <td>세네갈</td>\n",
              "      <td>경기 용인시</td>\n",
              "      <td>0.0181</td>\n",
              "    </tr>\n",
              "    <tr>\n",
              "      <th>19</th>\n",
              "      <td>201903</td>\n",
              "      <td>11</td>\n",
              "      <td>사우디아라비아</td>\n",
              "      <td>경기 용인시</td>\n",
              "      <td>0.5779</td>\n",
              "    </tr>\n",
              "    <tr>\n",
              "      <th>35</th>\n",
              "      <td>201903</td>\n",
              "      <td>11</td>\n",
              "      <td>이탈리아</td>\n",
              "      <td>경기 용인시</td>\n",
              "      <td>0.0633</td>\n",
              "    </tr>\n",
              "    <tr>\n",
              "      <th>51</th>\n",
              "      <td>201903</td>\n",
              "      <td>11</td>\n",
              "      <td>루마니아</td>\n",
              "      <td>경기 용인시</td>\n",
              "      <td>0.0285</td>\n",
              "    </tr>\n",
              "    <tr>\n",
              "      <th>...</th>\n",
              "      <td>...</td>\n",
              "      <td>...</td>\n",
              "      <td>...</td>\n",
              "      <td>...</td>\n",
              "      <td>...</td>\n",
              "    </tr>\n",
              "    <tr>\n",
              "      <th>9586</th>\n",
              "      <td>202005</td>\n",
              "      <td>66</td>\n",
              "      <td>중국</td>\n",
              "      <td>경기 용인시</td>\n",
              "      <td>11.7183</td>\n",
              "    </tr>\n",
              "    <tr>\n",
              "      <th>9627</th>\n",
              "      <td>202006</td>\n",
              "      <td>66</td>\n",
              "      <td>베트남</td>\n",
              "      <td>경기 용인시</td>\n",
              "      <td>0.0013</td>\n",
              "    </tr>\n",
              "    <tr>\n",
              "      <th>9642</th>\n",
              "      <td>202006</td>\n",
              "      <td>66</td>\n",
              "      <td>미국</td>\n",
              "      <td>경기 용인시</td>\n",
              "      <td>27.7205</td>\n",
              "    </tr>\n",
              "    <tr>\n",
              "      <th>9645</th>\n",
              "      <td>202006</td>\n",
              "      <td>66</td>\n",
              "      <td>인도</td>\n",
              "      <td>경기 용인시</td>\n",
              "      <td>6.1316</td>\n",
              "    </tr>\n",
              "    <tr>\n",
              "      <th>9676</th>\n",
              "      <td>202006</td>\n",
              "      <td>66</td>\n",
              "      <td>홍콩</td>\n",
              "      <td>경기 용인시</td>\n",
              "      <td>4.1862</td>\n",
              "    </tr>\n",
              "  </tbody>\n",
              "</table>\n",
              "<p>2026 rows × 5 columns</p>\n",
              "</div>"
            ],
            "text/plain": [
              "           월  항목       국가      지역    Value\n",
              "5     201903  11     파키스탄  경기 용인시   0.0938\n",
              "14    201903  11      세네갈  경기 용인시   0.0181\n",
              "19    201903  11  사우디아라비아  경기 용인시   0.5779\n",
              "35    201903  11     이탈리아  경기 용인시   0.0633\n",
              "51    201903  11     루마니아  경기 용인시   0.0285\n",
              "...      ...  ..      ...     ...      ...\n",
              "9586  202005  66       중국  경기 용인시  11.7183\n",
              "9627  202006  66      베트남  경기 용인시   0.0013\n",
              "9642  202006  66       미국  경기 용인시  27.7205\n",
              "9645  202006  66       인도  경기 용인시   6.1316\n",
              "9676  202006  66       홍콩  경기 용인시   4.1862\n",
              "\n",
              "[2026 rows x 5 columns]"
            ]
          },
          "metadata": {
            "tags": []
          },
          "execution_count": 10
        }
      ]
    },
    {
      "cell_type": "code",
      "metadata": {
        "id": "r86EnrhIjHFF",
        "colab_type": "code",
        "colab": {
          "base_uri": "https://localhost:8080/",
          "height": 419
        },
        "outputId": "aea4e884-6003-42b0-ccbc-d7d005f0f284"
      },
      "source": [
        "data[data['항목'].isin([\"11\"]) & data['지역'].isin([\"강원 춘천시\",\"경기 용인시\"])]"
      ],
      "execution_count": 12,
      "outputs": [
        {
          "output_type": "execute_result",
          "data": {
            "text/html": [
              "<div>\n",
              "<style scoped>\n",
              "    .dataframe tbody tr th:only-of-type {\n",
              "        vertical-align: middle;\n",
              "    }\n",
              "\n",
              "    .dataframe tbody tr th {\n",
              "        vertical-align: top;\n",
              "    }\n",
              "\n",
              "    .dataframe thead th {\n",
              "        text-align: right;\n",
              "    }\n",
              "</style>\n",
              "<table border=\"1\" class=\"dataframe\">\n",
              "  <thead>\n",
              "    <tr style=\"text-align: right;\">\n",
              "      <th></th>\n",
              "      <th>월</th>\n",
              "      <th>항목</th>\n",
              "      <th>국가</th>\n",
              "      <th>지역</th>\n",
              "      <th>Value</th>\n",
              "    </tr>\n",
              "  </thead>\n",
              "  <tbody>\n",
              "    <tr>\n",
              "      <th>5</th>\n",
              "      <td>201903</td>\n",
              "      <td>11</td>\n",
              "      <td>파키스탄</td>\n",
              "      <td>경기 용인시</td>\n",
              "      <td>0.0938</td>\n",
              "    </tr>\n",
              "    <tr>\n",
              "      <th>14</th>\n",
              "      <td>201903</td>\n",
              "      <td>11</td>\n",
              "      <td>세네갈</td>\n",
              "      <td>경기 용인시</td>\n",
              "      <td>0.0181</td>\n",
              "    </tr>\n",
              "    <tr>\n",
              "      <th>19</th>\n",
              "      <td>201903</td>\n",
              "      <td>11</td>\n",
              "      <td>사우디아라비아</td>\n",
              "      <td>경기 용인시</td>\n",
              "      <td>0.5779</td>\n",
              "    </tr>\n",
              "    <tr>\n",
              "      <th>35</th>\n",
              "      <td>201903</td>\n",
              "      <td>11</td>\n",
              "      <td>이탈리아</td>\n",
              "      <td>경기 용인시</td>\n",
              "      <td>0.0633</td>\n",
              "    </tr>\n",
              "    <tr>\n",
              "      <th>51</th>\n",
              "      <td>201903</td>\n",
              "      <td>11</td>\n",
              "      <td>루마니아</td>\n",
              "      <td>경기 용인시</td>\n",
              "      <td>0.0285</td>\n",
              "    </tr>\n",
              "    <tr>\n",
              "      <th>...</th>\n",
              "      <td>...</td>\n",
              "      <td>...</td>\n",
              "      <td>...</td>\n",
              "      <td>...</td>\n",
              "      <td>...</td>\n",
              "    </tr>\n",
              "    <tr>\n",
              "      <th>1868</th>\n",
              "      <td>202006</td>\n",
              "      <td>11</td>\n",
              "      <td>카자흐스탄</td>\n",
              "      <td>경기 용인시</td>\n",
              "      <td>8.9789</td>\n",
              "    </tr>\n",
              "    <tr>\n",
              "      <th>1870</th>\n",
              "      <td>202006</td>\n",
              "      <td>11</td>\n",
              "      <td>태국</td>\n",
              "      <td>경기 용인시</td>\n",
              "      <td>0.2296</td>\n",
              "    </tr>\n",
              "    <tr>\n",
              "      <th>1871</th>\n",
              "      <td>202006</td>\n",
              "      <td>11</td>\n",
              "      <td>프랑스</td>\n",
              "      <td>경기 용인시</td>\n",
              "      <td>0.0153</td>\n",
              "    </tr>\n",
              "    <tr>\n",
              "      <th>1874</th>\n",
              "      <td>202006</td>\n",
              "      <td>11</td>\n",
              "      <td>이탈리아</td>\n",
              "      <td>경기 용인시</td>\n",
              "      <td>0.2356</td>\n",
              "    </tr>\n",
              "    <tr>\n",
              "      <th>1900</th>\n",
              "      <td>202006</td>\n",
              "      <td>11</td>\n",
              "      <td>페루</td>\n",
              "      <td>경기 용인시</td>\n",
              "      <td>0.0188</td>\n",
              "    </tr>\n",
              "  </tbody>\n",
              "</table>\n",
              "<p>144 rows × 5 columns</p>\n",
              "</div>"
            ],
            "text/plain": [
              "           월  항목       국가      지역   Value\n",
              "5     201903  11     파키스탄  경기 용인시  0.0938\n",
              "14    201903  11      세네갈  경기 용인시  0.0181\n",
              "19    201903  11  사우디아라비아  경기 용인시  0.5779\n",
              "35    201903  11     이탈리아  경기 용인시  0.0633\n",
              "51    201903  11     루마니아  경기 용인시  0.0285\n",
              "...      ...  ..      ...     ...     ...\n",
              "1868  202006  11    카자흐스탄  경기 용인시  8.9789\n",
              "1870  202006  11       태국  경기 용인시  0.2296\n",
              "1871  202006  11      프랑스  경기 용인시  0.0153\n",
              "1874  202006  11     이탈리아  경기 용인시  0.2356\n",
              "1900  202006  11       페루  경기 용인시  0.0188\n",
              "\n",
              "[144 rows x 5 columns]"
            ]
          },
          "metadata": {
            "tags": []
          },
          "execution_count": 12
        }
      ]
    },
    {
      "cell_type": "code",
      "metadata": {
        "id": "ReisShL3jwgR",
        "colab_type": "code",
        "colab": {
          "base_uri": "https://localhost:8080/",
          "height": 419
        },
        "outputId": "a716a319-2a52-4432-98bf-8a0c82164d82"
      },
      "source": [
        "data[data['항목'].isin([\"11\",\"22\",\"33\",\"44\",\"55\",\"66\"]) & data['지역'].isin([\"강원 춘천시\",\"경기 용인시\"])]"
      ],
      "execution_count": 21,
      "outputs": [
        {
          "output_type": "execute_result",
          "data": {
            "text/html": [
              "<div>\n",
              "<style scoped>\n",
              "    .dataframe tbody tr th:only-of-type {\n",
              "        vertical-align: middle;\n",
              "    }\n",
              "\n",
              "    .dataframe tbody tr th {\n",
              "        vertical-align: top;\n",
              "    }\n",
              "\n",
              "    .dataframe thead th {\n",
              "        text-align: right;\n",
              "    }\n",
              "</style>\n",
              "<table border=\"1\" class=\"dataframe\">\n",
              "  <thead>\n",
              "    <tr style=\"text-align: right;\">\n",
              "      <th></th>\n",
              "      <th>월</th>\n",
              "      <th>항목</th>\n",
              "      <th>국가</th>\n",
              "      <th>지역</th>\n",
              "      <th>Value</th>\n",
              "    </tr>\n",
              "  </thead>\n",
              "  <tbody>\n",
              "    <tr>\n",
              "      <th>5</th>\n",
              "      <td>201903</td>\n",
              "      <td>11</td>\n",
              "      <td>파키스탄</td>\n",
              "      <td>경기 용인시</td>\n",
              "      <td>0.0938</td>\n",
              "    </tr>\n",
              "    <tr>\n",
              "      <th>14</th>\n",
              "      <td>201903</td>\n",
              "      <td>11</td>\n",
              "      <td>세네갈</td>\n",
              "      <td>경기 용인시</td>\n",
              "      <td>0.0181</td>\n",
              "    </tr>\n",
              "    <tr>\n",
              "      <th>19</th>\n",
              "      <td>201903</td>\n",
              "      <td>11</td>\n",
              "      <td>사우디아라비아</td>\n",
              "      <td>경기 용인시</td>\n",
              "      <td>0.5779</td>\n",
              "    </tr>\n",
              "    <tr>\n",
              "      <th>35</th>\n",
              "      <td>201903</td>\n",
              "      <td>11</td>\n",
              "      <td>이탈리아</td>\n",
              "      <td>경기 용인시</td>\n",
              "      <td>0.0633</td>\n",
              "    </tr>\n",
              "    <tr>\n",
              "      <th>51</th>\n",
              "      <td>201903</td>\n",
              "      <td>11</td>\n",
              "      <td>루마니아</td>\n",
              "      <td>경기 용인시</td>\n",
              "      <td>0.0285</td>\n",
              "    </tr>\n",
              "    <tr>\n",
              "      <th>...</th>\n",
              "      <td>...</td>\n",
              "      <td>...</td>\n",
              "      <td>...</td>\n",
              "      <td>...</td>\n",
              "      <td>...</td>\n",
              "    </tr>\n",
              "    <tr>\n",
              "      <th>9586</th>\n",
              "      <td>202005</td>\n",
              "      <td>66</td>\n",
              "      <td>중국</td>\n",
              "      <td>경기 용인시</td>\n",
              "      <td>11.7183</td>\n",
              "    </tr>\n",
              "    <tr>\n",
              "      <th>9627</th>\n",
              "      <td>202006</td>\n",
              "      <td>66</td>\n",
              "      <td>베트남</td>\n",
              "      <td>경기 용인시</td>\n",
              "      <td>0.0013</td>\n",
              "    </tr>\n",
              "    <tr>\n",
              "      <th>9642</th>\n",
              "      <td>202006</td>\n",
              "      <td>66</td>\n",
              "      <td>미국</td>\n",
              "      <td>경기 용인시</td>\n",
              "      <td>27.7205</td>\n",
              "    </tr>\n",
              "    <tr>\n",
              "      <th>9645</th>\n",
              "      <td>202006</td>\n",
              "      <td>66</td>\n",
              "      <td>인도</td>\n",
              "      <td>경기 용인시</td>\n",
              "      <td>6.1316</td>\n",
              "    </tr>\n",
              "    <tr>\n",
              "      <th>9676</th>\n",
              "      <td>202006</td>\n",
              "      <td>66</td>\n",
              "      <td>홍콩</td>\n",
              "      <td>경기 용인시</td>\n",
              "      <td>4.1862</td>\n",
              "    </tr>\n",
              "  </tbody>\n",
              "</table>\n",
              "<p>2026 rows × 5 columns</p>\n",
              "</div>"
            ],
            "text/plain": [
              "           월  항목       국가      지역    Value\n",
              "5     201903  11     파키스탄  경기 용인시   0.0938\n",
              "14    201903  11      세네갈  경기 용인시   0.0181\n",
              "19    201903  11  사우디아라비아  경기 용인시   0.5779\n",
              "35    201903  11     이탈리아  경기 용인시   0.0633\n",
              "51    201903  11     루마니아  경기 용인시   0.0285\n",
              "...      ...  ..      ...     ...      ...\n",
              "9586  202005  66       중국  경기 용인시  11.7183\n",
              "9627  202006  66      베트남  경기 용인시   0.0013\n",
              "9642  202006  66       미국  경기 용인시  27.7205\n",
              "9645  202006  66       인도  경기 용인시   6.1316\n",
              "9676  202006  66       홍콩  경기 용인시   4.1862\n",
              "\n",
              "[2026 rows x 5 columns]"
            ]
          },
          "metadata": {
            "tags": []
          },
          "execution_count": 21
        }
      ]
    },
    {
      "cell_type": "code",
      "metadata": {
        "id": "9RiwMNjUwVrF",
        "colab_type": "code",
        "colab": {
          "base_uri": "https://localhost:8080/",
          "height": 35
        },
        "outputId": "b82c149f-9163-49d8-e32c-84f934336d67"
      },
      "source": [
        "print(data[data['항목'].isin([\"11\",\"22\",\"33\",\"44\",\"55\",\"66\"]) & data['지역'].isin([\"강원 춘천시\",\"경기 용인시\"])].shape)"
      ],
      "execution_count": 31,
      "outputs": [
        {
          "output_type": "stream",
          "text": [
            "(2026, 5)\n"
          ],
          "name": "stdout"
        }
      ]
    },
    {
      "cell_type": "code",
      "metadata": {
        "id": "9CFjF2Ycwdp-",
        "colab_type": "code",
        "colab": {
          "base_uri": "https://localhost:8080/",
          "height": 204
        },
        "outputId": "9dac70c7-56b4-42ab-f5c8-7349c4650a73"
      },
      "source": [
        "data[data['항목'].isin([\"11\",\"22\",\"33\",\"44\",\"55\",\"66\"]) & data['지역'].isin([\"강원 춘천시\",\"경기 용인시\"])].tail()"
      ],
      "execution_count": 33,
      "outputs": [
        {
          "output_type": "execute_result",
          "data": {
            "text/html": [
              "<div>\n",
              "<style scoped>\n",
              "    .dataframe tbody tr th:only-of-type {\n",
              "        vertical-align: middle;\n",
              "    }\n",
              "\n",
              "    .dataframe tbody tr th {\n",
              "        vertical-align: top;\n",
              "    }\n",
              "\n",
              "    .dataframe thead th {\n",
              "        text-align: right;\n",
              "    }\n",
              "</style>\n",
              "<table border=\"1\" class=\"dataframe\">\n",
              "  <thead>\n",
              "    <tr style=\"text-align: right;\">\n",
              "      <th></th>\n",
              "      <th>월</th>\n",
              "      <th>항목</th>\n",
              "      <th>국가</th>\n",
              "      <th>지역</th>\n",
              "      <th>Value</th>\n",
              "    </tr>\n",
              "  </thead>\n",
              "  <tbody>\n",
              "    <tr>\n",
              "      <th>9586</th>\n",
              "      <td>202005</td>\n",
              "      <td>66</td>\n",
              "      <td>중국</td>\n",
              "      <td>경기 용인시</td>\n",
              "      <td>11.7183</td>\n",
              "    </tr>\n",
              "    <tr>\n",
              "      <th>9627</th>\n",
              "      <td>202006</td>\n",
              "      <td>66</td>\n",
              "      <td>베트남</td>\n",
              "      <td>경기 용인시</td>\n",
              "      <td>0.0013</td>\n",
              "    </tr>\n",
              "    <tr>\n",
              "      <th>9642</th>\n",
              "      <td>202006</td>\n",
              "      <td>66</td>\n",
              "      <td>미국</td>\n",
              "      <td>경기 용인시</td>\n",
              "      <td>27.7205</td>\n",
              "    </tr>\n",
              "    <tr>\n",
              "      <th>9645</th>\n",
              "      <td>202006</td>\n",
              "      <td>66</td>\n",
              "      <td>인도</td>\n",
              "      <td>경기 용인시</td>\n",
              "      <td>6.1316</td>\n",
              "    </tr>\n",
              "    <tr>\n",
              "      <th>9676</th>\n",
              "      <td>202006</td>\n",
              "      <td>66</td>\n",
              "      <td>홍콩</td>\n",
              "      <td>경기 용인시</td>\n",
              "      <td>4.1862</td>\n",
              "    </tr>\n",
              "  </tbody>\n",
              "</table>\n",
              "</div>"
            ],
            "text/plain": [
              "           월  항목   국가      지역    Value\n",
              "9586  202005  66   중국  경기 용인시  11.7183\n",
              "9627  202006  66  베트남  경기 용인시   0.0013\n",
              "9642  202006  66   미국  경기 용인시  27.7205\n",
              "9645  202006  66   인도  경기 용인시   6.1316\n",
              "9676  202006  66   홍콩  경기 용인시   4.1862"
            ]
          },
          "metadata": {
            "tags": []
          },
          "execution_count": 33
        }
      ]
    },
    {
      "cell_type": "code",
      "metadata": {
        "id": "fGuGnPtHj2pf",
        "colab_type": "code",
        "colab": {
          "base_uri": "https://localhost:8080/",
          "height": 49
        },
        "outputId": "3a70260b-7660-4f9e-9a79-a6e347cd75a5"
      },
      "source": [
        "target_data.head()"
      ],
      "execution_count": 29,
      "outputs": [
        {
          "output_type": "execute_result",
          "data": {
            "text/html": [
              "<div>\n",
              "<style scoped>\n",
              "    .dataframe tbody tr th:only-of-type {\n",
              "        vertical-align: middle;\n",
              "    }\n",
              "\n",
              "    .dataframe tbody tr th {\n",
              "        vertical-align: top;\n",
              "    }\n",
              "\n",
              "    .dataframe thead th {\n",
              "        text-align: right;\n",
              "    }\n",
              "</style>\n",
              "<table border=\"1\" class=\"dataframe\">\n",
              "  <thead>\n",
              "    <tr style=\"text-align: right;\">\n",
              "      <th></th>\n",
              "      <th>월</th>\n",
              "      <th>항목</th>\n",
              "      <th>국가</th>\n",
              "      <th>지역</th>\n",
              "      <th>Value</th>\n",
              "    </tr>\n",
              "  </thead>\n",
              "  <tbody>\n",
              "  </tbody>\n",
              "</table>\n",
              "</div>"
            ],
            "text/plain": [
              "Empty DataFrame\n",
              "Columns: [월, 항목, 국가, 지역, Value]\n",
              "Index: []"
            ]
          },
          "metadata": {
            "tags": []
          },
          "execution_count": 29
        }
      ]
    },
    {
      "cell_type": "code",
      "metadata": {
        "id": "uG24vOYpxAA_",
        "colab_type": "code",
        "colab": {
          "base_uri": "https://localhost:8080/",
          "height": 204
        },
        "outputId": "b456d772-dafa-459b-d92e-da61c6ad2b68"
      },
      "source": [
        "data[data['항목'].isin([\"11\",\"22\",\"33\",\"44\",\"55\",\"66\"]) & data['지역'].isin([\"강원 춘천시\",\"경기 용인시\"])].head()"
      ],
      "execution_count": 34,
      "outputs": [
        {
          "output_type": "execute_result",
          "data": {
            "text/html": [
              "<div>\n",
              "<style scoped>\n",
              "    .dataframe tbody tr th:only-of-type {\n",
              "        vertical-align: middle;\n",
              "    }\n",
              "\n",
              "    .dataframe tbody tr th {\n",
              "        vertical-align: top;\n",
              "    }\n",
              "\n",
              "    .dataframe thead th {\n",
              "        text-align: right;\n",
              "    }\n",
              "</style>\n",
              "<table border=\"1\" class=\"dataframe\">\n",
              "  <thead>\n",
              "    <tr style=\"text-align: right;\">\n",
              "      <th></th>\n",
              "      <th>월</th>\n",
              "      <th>항목</th>\n",
              "      <th>국가</th>\n",
              "      <th>지역</th>\n",
              "      <th>Value</th>\n",
              "    </tr>\n",
              "  </thead>\n",
              "  <tbody>\n",
              "    <tr>\n",
              "      <th>5</th>\n",
              "      <td>201903</td>\n",
              "      <td>11</td>\n",
              "      <td>파키스탄</td>\n",
              "      <td>경기 용인시</td>\n",
              "      <td>0.0938</td>\n",
              "    </tr>\n",
              "    <tr>\n",
              "      <th>14</th>\n",
              "      <td>201903</td>\n",
              "      <td>11</td>\n",
              "      <td>세네갈</td>\n",
              "      <td>경기 용인시</td>\n",
              "      <td>0.0181</td>\n",
              "    </tr>\n",
              "    <tr>\n",
              "      <th>19</th>\n",
              "      <td>201903</td>\n",
              "      <td>11</td>\n",
              "      <td>사우디아라비아</td>\n",
              "      <td>경기 용인시</td>\n",
              "      <td>0.5779</td>\n",
              "    </tr>\n",
              "    <tr>\n",
              "      <th>35</th>\n",
              "      <td>201903</td>\n",
              "      <td>11</td>\n",
              "      <td>이탈리아</td>\n",
              "      <td>경기 용인시</td>\n",
              "      <td>0.0633</td>\n",
              "    </tr>\n",
              "    <tr>\n",
              "      <th>51</th>\n",
              "      <td>201903</td>\n",
              "      <td>11</td>\n",
              "      <td>루마니아</td>\n",
              "      <td>경기 용인시</td>\n",
              "      <td>0.0285</td>\n",
              "    </tr>\n",
              "  </tbody>\n",
              "</table>\n",
              "</div>"
            ],
            "text/plain": [
              "         월  항목       국가      지역   Value\n",
              "5   201903  11     파키스탄  경기 용인시  0.0938\n",
              "14  201903  11      세네갈  경기 용인시  0.0181\n",
              "19  201903  11  사우디아라비아  경기 용인시  0.5779\n",
              "35  201903  11     이탈리아  경기 용인시  0.0633\n",
              "51  201903  11     루마니아  경기 용인시  0.0285"
            ]
          },
          "metadata": {
            "tags": []
          },
          "execution_count": 34
        }
      ]
    },
    {
      "cell_type": "code",
      "metadata": {
        "id": "Wcl3RGGcxTS9",
        "colab_type": "code",
        "colab": {}
      },
      "source": [
        "target= data[data['항목'].isin([\"11\",\"22\",\"33\",\"44\",\"55\",\"66\"]) & data['지역'].isin([\"강원 춘천시\",\"경기 용인시\"])]"
      ],
      "execution_count": 38,
      "outputs": []
    },
    {
      "cell_type": "code",
      "metadata": {
        "id": "t-DXEHumxWQZ",
        "colab_type": "code",
        "colab": {
          "base_uri": "https://localhost:8080/",
          "height": 419
        },
        "outputId": "415c35de-ae9a-4d82-da3f-594a67310fc7"
      },
      "source": [
        "target"
      ],
      "execution_count": 39,
      "outputs": [
        {
          "output_type": "execute_result",
          "data": {
            "text/html": [
              "<div>\n",
              "<style scoped>\n",
              "    .dataframe tbody tr th:only-of-type {\n",
              "        vertical-align: middle;\n",
              "    }\n",
              "\n",
              "    .dataframe tbody tr th {\n",
              "        vertical-align: top;\n",
              "    }\n",
              "\n",
              "    .dataframe thead th {\n",
              "        text-align: right;\n",
              "    }\n",
              "</style>\n",
              "<table border=\"1\" class=\"dataframe\">\n",
              "  <thead>\n",
              "    <tr style=\"text-align: right;\">\n",
              "      <th></th>\n",
              "      <th>월</th>\n",
              "      <th>항목</th>\n",
              "      <th>국가</th>\n",
              "      <th>지역</th>\n",
              "      <th>Value</th>\n",
              "    </tr>\n",
              "  </thead>\n",
              "  <tbody>\n",
              "    <tr>\n",
              "      <th>5</th>\n",
              "      <td>201903</td>\n",
              "      <td>11</td>\n",
              "      <td>파키스탄</td>\n",
              "      <td>경기 용인시</td>\n",
              "      <td>0.0938</td>\n",
              "    </tr>\n",
              "    <tr>\n",
              "      <th>14</th>\n",
              "      <td>201903</td>\n",
              "      <td>11</td>\n",
              "      <td>세네갈</td>\n",
              "      <td>경기 용인시</td>\n",
              "      <td>0.0181</td>\n",
              "    </tr>\n",
              "    <tr>\n",
              "      <th>19</th>\n",
              "      <td>201903</td>\n",
              "      <td>11</td>\n",
              "      <td>사우디아라비아</td>\n",
              "      <td>경기 용인시</td>\n",
              "      <td>0.5779</td>\n",
              "    </tr>\n",
              "    <tr>\n",
              "      <th>35</th>\n",
              "      <td>201903</td>\n",
              "      <td>11</td>\n",
              "      <td>이탈리아</td>\n",
              "      <td>경기 용인시</td>\n",
              "      <td>0.0633</td>\n",
              "    </tr>\n",
              "    <tr>\n",
              "      <th>51</th>\n",
              "      <td>201903</td>\n",
              "      <td>11</td>\n",
              "      <td>루마니아</td>\n",
              "      <td>경기 용인시</td>\n",
              "      <td>0.0285</td>\n",
              "    </tr>\n",
              "    <tr>\n",
              "      <th>...</th>\n",
              "      <td>...</td>\n",
              "      <td>...</td>\n",
              "      <td>...</td>\n",
              "      <td>...</td>\n",
              "      <td>...</td>\n",
              "    </tr>\n",
              "    <tr>\n",
              "      <th>9586</th>\n",
              "      <td>202005</td>\n",
              "      <td>66</td>\n",
              "      <td>중국</td>\n",
              "      <td>경기 용인시</td>\n",
              "      <td>11.7183</td>\n",
              "    </tr>\n",
              "    <tr>\n",
              "      <th>9627</th>\n",
              "      <td>202006</td>\n",
              "      <td>66</td>\n",
              "      <td>베트남</td>\n",
              "      <td>경기 용인시</td>\n",
              "      <td>0.0013</td>\n",
              "    </tr>\n",
              "    <tr>\n",
              "      <th>9642</th>\n",
              "      <td>202006</td>\n",
              "      <td>66</td>\n",
              "      <td>미국</td>\n",
              "      <td>경기 용인시</td>\n",
              "      <td>27.7205</td>\n",
              "    </tr>\n",
              "    <tr>\n",
              "      <th>9645</th>\n",
              "      <td>202006</td>\n",
              "      <td>66</td>\n",
              "      <td>인도</td>\n",
              "      <td>경기 용인시</td>\n",
              "      <td>6.1316</td>\n",
              "    </tr>\n",
              "    <tr>\n",
              "      <th>9676</th>\n",
              "      <td>202006</td>\n",
              "      <td>66</td>\n",
              "      <td>홍콩</td>\n",
              "      <td>경기 용인시</td>\n",
              "      <td>4.1862</td>\n",
              "    </tr>\n",
              "  </tbody>\n",
              "</table>\n",
              "<p>2026 rows × 5 columns</p>\n",
              "</div>"
            ],
            "text/plain": [
              "           월  항목       국가      지역    Value\n",
              "5     201903  11     파키스탄  경기 용인시   0.0938\n",
              "14    201903  11      세네갈  경기 용인시   0.0181\n",
              "19    201903  11  사우디아라비아  경기 용인시   0.5779\n",
              "35    201903  11     이탈리아  경기 용인시   0.0633\n",
              "51    201903  11     루마니아  경기 용인시   0.0285\n",
              "...      ...  ..      ...     ...      ...\n",
              "9586  202005  66       중국  경기 용인시  11.7183\n",
              "9627  202006  66      베트남  경기 용인시   0.0013\n",
              "9642  202006  66       미국  경기 용인시  27.7205\n",
              "9645  202006  66       인도  경기 용인시   6.1316\n",
              "9676  202006  66       홍콩  경기 용인시   4.1862\n",
              "\n",
              "[2026 rows x 5 columns]"
            ]
          },
          "metadata": {
            "tags": []
          },
          "execution_count": 39
        }
      ]
    },
    {
      "cell_type": "code",
      "metadata": {
        "id": "MScHcE9kvKkf",
        "colab_type": "code",
        "colab": {
          "base_uri": "https://localhost:8080/",
          "height": 35
        },
        "outputId": "8d67e877-17ee-4c3a-c774-782508b6283d"
      },
      "source": [
        "print(target.shape)"
      ],
      "execution_count": 41,
      "outputs": [
        {
          "output_type": "stream",
          "text": [
            "(2026, 5)\n"
          ],
          "name": "stdout"
        }
      ]
    },
    {
      "cell_type": "code",
      "metadata": {
        "id": "FsgWtQ2itmg6",
        "colab_type": "code",
        "colab": {
          "base_uri": "https://localhost:8080/",
          "height": 35
        },
        "outputId": "b703db16-da9a-4975-9b8a-511ffea266eb"
      },
      "source": [
        "type(target)"
      ],
      "execution_count": 42,
      "outputs": [
        {
          "output_type": "execute_result",
          "data": {
            "text/plain": [
              "pandas.core.frame.DataFrame"
            ]
          },
          "metadata": {
            "tags": []
          },
          "execution_count": 42
        }
      ]
    },
    {
      "cell_type": "code",
      "metadata": {
        "id": "sw3Zmin1dUdA",
        "colab_type": "code",
        "colab": {
          "base_uri": "https://localhost:8080/",
          "height": 251
        },
        "outputId": "04780282-4775-4b57-fa23-41f4cfada536"
      },
      "source": [
        "sum_Value_by_월_항목_지역=target.groupby(['월','항목','지역']).Value.sum()\n",
        "print(sum_Value_by_월_항목_지역)"
      ],
      "execution_count": 43,
      "outputs": [
        {
          "output_type": "stream",
          "text": [
            "월       항목  지역    \n",
            "201903  11  경기 용인시      6.8593\n",
            "        22  강원 춘천시    120.9270\n",
            "            경기 용인시     23.1287\n",
            "        33  강원 춘천시     20.6387\n",
            "            경기 용인시      0.7368\n",
            "                        ...   \n",
            "202006  33  강원 춘천시     48.1646\n",
            "            경기 용인시      0.5431\n",
            "        44  경기 용인시      8.8866\n",
            "        55  경기 용인시      1.0783\n",
            "        66  경기 용인시     38.0396\n",
            "Name: Value, Length: 131, dtype: float64\n"
          ],
          "name": "stdout"
        }
      ]
    },
    {
      "cell_type": "code",
      "metadata": {
        "id": "s28I5JxXv49a",
        "colab_type": "code",
        "colab": {
          "base_uri": "https://localhost:8080/",
          "height": 35
        },
        "outputId": "2e6c3722-da92-4e63-e4fb-3105bcdfa095"
      },
      "source": [
        "type(sum_Value_by_월_항목_지역)"
      ],
      "execution_count": 44,
      "outputs": [
        {
          "output_type": "execute_result",
          "data": {
            "text/plain": [
              "pandas.core.series.Series"
            ]
          },
          "metadata": {
            "tags": []
          },
          "execution_count": 44
        }
      ]
    },
    {
      "cell_type": "code",
      "metadata": {
        "id": "P-3XyKy-yAC3",
        "colab_type": "code",
        "colab": {}
      },
      "source": [
        "import numpy as np"
      ],
      "execution_count": null,
      "outputs": []
    },
    {
      "cell_type": "code",
      "metadata": {
        "id": "uYpJKA5s2ytS",
        "colab_type": "code",
        "colab": {
          "base_uri": "https://localhost:8080/",
          "height": 251
        },
        "outputId": "2d916ba0-a6da-4e41-ee83-2a998fc0ce5e"
      },
      "source": [
        "print(sum_Value_by_월_항목_지역)"
      ],
      "execution_count": 56,
      "outputs": [
        {
          "output_type": "stream",
          "text": [
            "월       항목  지역    \n",
            "201903  11  경기 용인시      6.8593\n",
            "        22  강원 춘천시    120.9270\n",
            "            경기 용인시     23.1287\n",
            "        33  강원 춘천시     20.6387\n",
            "            경기 용인시      0.7368\n",
            "                        ...   \n",
            "202006  33  강원 춘천시     48.1646\n",
            "            경기 용인시      0.5431\n",
            "        44  경기 용인시      8.8866\n",
            "        55  경기 용인시      1.0783\n",
            "        66  경기 용인시     38.0396\n",
            "Name: Value, Length: 131, dtype: float64\n"
          ],
          "name": "stdout"
        }
      ]
    },
    {
      "cell_type": "code",
      "metadata": {
        "id": "lDIRzTjJ7nVl",
        "colab_type": "code",
        "colab": {}
      },
      "source": [
        "df = sum_Value_by_월_항목_지역.to_frame()"
      ],
      "execution_count": 46,
      "outputs": []
    },
    {
      "cell_type": "code",
      "metadata": {
        "id": "CsTH7BlU7u7N",
        "colab_type": "code",
        "colab": {
          "base_uri": "https://localhost:8080/",
          "height": 450
        },
        "outputId": "f631139a-ca6c-4789-8a3d-e74da0ff43f3"
      },
      "source": [
        "df"
      ],
      "execution_count": 47,
      "outputs": [
        {
          "output_type": "execute_result",
          "data": {
            "text/html": [
              "<div>\n",
              "<style scoped>\n",
              "    .dataframe tbody tr th:only-of-type {\n",
              "        vertical-align: middle;\n",
              "    }\n",
              "\n",
              "    .dataframe tbody tr th {\n",
              "        vertical-align: top;\n",
              "    }\n",
              "\n",
              "    .dataframe thead th {\n",
              "        text-align: right;\n",
              "    }\n",
              "</style>\n",
              "<table border=\"1\" class=\"dataframe\">\n",
              "  <thead>\n",
              "    <tr style=\"text-align: right;\">\n",
              "      <th></th>\n",
              "      <th></th>\n",
              "      <th></th>\n",
              "      <th>Value</th>\n",
              "    </tr>\n",
              "    <tr>\n",
              "      <th>월</th>\n",
              "      <th>항목</th>\n",
              "      <th>지역</th>\n",
              "      <th></th>\n",
              "    </tr>\n",
              "  </thead>\n",
              "  <tbody>\n",
              "    <tr>\n",
              "      <th rowspan=\"5\" valign=\"top\">201903</th>\n",
              "      <th>11</th>\n",
              "      <th>경기 용인시</th>\n",
              "      <td>6.8593</td>\n",
              "    </tr>\n",
              "    <tr>\n",
              "      <th rowspan=\"2\" valign=\"top\">22</th>\n",
              "      <th>강원 춘천시</th>\n",
              "      <td>120.9270</td>\n",
              "    </tr>\n",
              "    <tr>\n",
              "      <th>경기 용인시</th>\n",
              "      <td>23.1287</td>\n",
              "    </tr>\n",
              "    <tr>\n",
              "      <th rowspan=\"2\" valign=\"top\">33</th>\n",
              "      <th>강원 춘천시</th>\n",
              "      <td>20.6387</td>\n",
              "    </tr>\n",
              "    <tr>\n",
              "      <th>경기 용인시</th>\n",
              "      <td>0.7368</td>\n",
              "    </tr>\n",
              "    <tr>\n",
              "      <th>...</th>\n",
              "      <th>...</th>\n",
              "      <th>...</th>\n",
              "      <td>...</td>\n",
              "    </tr>\n",
              "    <tr>\n",
              "      <th rowspan=\"5\" valign=\"top\">202006</th>\n",
              "      <th rowspan=\"2\" valign=\"top\">33</th>\n",
              "      <th>강원 춘천시</th>\n",
              "      <td>48.1646</td>\n",
              "    </tr>\n",
              "    <tr>\n",
              "      <th>경기 용인시</th>\n",
              "      <td>0.5431</td>\n",
              "    </tr>\n",
              "    <tr>\n",
              "      <th>44</th>\n",
              "      <th>경기 용인시</th>\n",
              "      <td>8.8866</td>\n",
              "    </tr>\n",
              "    <tr>\n",
              "      <th>55</th>\n",
              "      <th>경기 용인시</th>\n",
              "      <td>1.0783</td>\n",
              "    </tr>\n",
              "    <tr>\n",
              "      <th>66</th>\n",
              "      <th>경기 용인시</th>\n",
              "      <td>38.0396</td>\n",
              "    </tr>\n",
              "  </tbody>\n",
              "</table>\n",
              "<p>131 rows × 1 columns</p>\n",
              "</div>"
            ],
            "text/plain": [
              "                     Value\n",
              "월      항목 지역              \n",
              "201903 11 경기 용인시    6.8593\n",
              "       22 강원 춘천시  120.9270\n",
              "          경기 용인시   23.1287\n",
              "       33 강원 춘천시   20.6387\n",
              "          경기 용인시    0.7368\n",
              "...                    ...\n",
              "202006 33 강원 춘천시   48.1646\n",
              "          경기 용인시    0.5431\n",
              "       44 경기 용인시    8.8866\n",
              "       55 경기 용인시    1.0783\n",
              "       66 경기 용인시   38.0396\n",
              "\n",
              "[131 rows x 1 columns]"
            ]
          },
          "metadata": {
            "tags": []
          },
          "execution_count": 47
        }
      ]
    },
    {
      "cell_type": "code",
      "metadata": {
        "id": "v2zgBMSy7znE",
        "colab_type": "code",
        "colab": {
          "base_uri": "https://localhost:8080/",
          "height": 35
        },
        "outputId": "f4498f89-ff91-4ec9-a79a-a3b5f42c8f96"
      },
      "source": [
        "type(df)"
      ],
      "execution_count": 48,
      "outputs": [
        {
          "output_type": "execute_result",
          "data": {
            "text/plain": [
              "pandas.core.frame.DataFrame"
            ]
          },
          "metadata": {
            "tags": []
          },
          "execution_count": 48
        }
      ]
    },
    {
      "cell_type": "code",
      "metadata": {
        "id": "RFF7N5Hs7-R4",
        "colab_type": "code",
        "colab": {
          "base_uri": "https://localhost:8080/",
          "height": 35
        },
        "outputId": "1debb90f-9adf-4586-b114-20dcd2efda32"
      },
      "source": [
        "print(df.shape)"
      ],
      "execution_count": 49,
      "outputs": [
        {
          "output_type": "stream",
          "text": [
            "(131, 1)\n"
          ],
          "name": "stdout"
        }
      ]
    },
    {
      "cell_type": "code",
      "metadata": {
        "id": "kaWpRIA08e1M",
        "colab_type": "code",
        "colab": {
          "base_uri": "https://localhost:8080/",
          "height": 251
        },
        "outputId": "1c4e85d9-100e-4df0-8337-ca1cb8d79033"
      },
      "source": [
        "df['Value']"
      ],
      "execution_count": 50,
      "outputs": [
        {
          "output_type": "execute_result",
          "data": {
            "text/plain": [
              "월       항목  지역    \n",
              "201903  11  경기 용인시      6.8593\n",
              "        22  강원 춘천시    120.9270\n",
              "            경기 용인시     23.1287\n",
              "        33  강원 춘천시     20.6387\n",
              "            경기 용인시      0.7368\n",
              "                        ...   \n",
              "202006  33  강원 춘천시     48.1646\n",
              "            경기 용인시      0.5431\n",
              "        44  경기 용인시      8.8866\n",
              "        55  경기 용인시      1.0783\n",
              "        66  경기 용인시     38.0396\n",
              "Name: Value, Length: 131, dtype: float64"
            ]
          },
          "metadata": {
            "tags": []
          },
          "execution_count": 50
        }
      ]
    },
    {
      "cell_type": "code",
      "metadata": {
        "id": "L6plQgPIKr2M",
        "colab_type": "code",
        "colab": {}
      },
      "source": [
        "df['YoY']=df['Value'].groupby(['월','항목','지역']).pct_change(12)\n",
        "df['MoM']=df['Value'].groupby(['월','항목','지역']).pct_change()"
      ],
      "execution_count": 53,
      "outputs": []
    },
    {
      "cell_type": "code",
      "metadata": {
        "id": "DH-ytPzAK641",
        "colab_type": "code",
        "colab": {
          "base_uri": "https://localhost:8080/",
          "height": 450
        },
        "outputId": "ecf0a69f-244d-4061-cb22-8d6920bfacdf"
      },
      "source": [
        "df"
      ],
      "execution_count": 54,
      "outputs": [
        {
          "output_type": "execute_result",
          "data": {
            "text/html": [
              "<div>\n",
              "<style scoped>\n",
              "    .dataframe tbody tr th:only-of-type {\n",
              "        vertical-align: middle;\n",
              "    }\n",
              "\n",
              "    .dataframe tbody tr th {\n",
              "        vertical-align: top;\n",
              "    }\n",
              "\n",
              "    .dataframe thead th {\n",
              "        text-align: right;\n",
              "    }\n",
              "</style>\n",
              "<table border=\"1\" class=\"dataframe\">\n",
              "  <thead>\n",
              "    <tr style=\"text-align: right;\">\n",
              "      <th></th>\n",
              "      <th></th>\n",
              "      <th></th>\n",
              "      <th>Value</th>\n",
              "      <th>YoY</th>\n",
              "      <th>MoM</th>\n",
              "    </tr>\n",
              "    <tr>\n",
              "      <th>월</th>\n",
              "      <th>항목</th>\n",
              "      <th>지역</th>\n",
              "      <th></th>\n",
              "      <th></th>\n",
              "      <th></th>\n",
              "    </tr>\n",
              "  </thead>\n",
              "  <tbody>\n",
              "    <tr>\n",
              "      <th rowspan=\"5\" valign=\"top\">201903</th>\n",
              "      <th>11</th>\n",
              "      <th>경기 용인시</th>\n",
              "      <td>6.8593</td>\n",
              "      <td>NaN</td>\n",
              "      <td>NaN</td>\n",
              "    </tr>\n",
              "    <tr>\n",
              "      <th rowspan=\"2\" valign=\"top\">22</th>\n",
              "      <th>강원 춘천시</th>\n",
              "      <td>120.9270</td>\n",
              "      <td>NaN</td>\n",
              "      <td>NaN</td>\n",
              "    </tr>\n",
              "    <tr>\n",
              "      <th>경기 용인시</th>\n",
              "      <td>23.1287</td>\n",
              "      <td>NaN</td>\n",
              "      <td>NaN</td>\n",
              "    </tr>\n",
              "    <tr>\n",
              "      <th rowspan=\"2\" valign=\"top\">33</th>\n",
              "      <th>강원 춘천시</th>\n",
              "      <td>20.6387</td>\n",
              "      <td>NaN</td>\n",
              "      <td>NaN</td>\n",
              "    </tr>\n",
              "    <tr>\n",
              "      <th>경기 용인시</th>\n",
              "      <td>0.7368</td>\n",
              "      <td>NaN</td>\n",
              "      <td>NaN</td>\n",
              "    </tr>\n",
              "    <tr>\n",
              "      <th>...</th>\n",
              "      <th>...</th>\n",
              "      <th>...</th>\n",
              "      <td>...</td>\n",
              "      <td>...</td>\n",
              "      <td>...</td>\n",
              "    </tr>\n",
              "    <tr>\n",
              "      <th rowspan=\"5\" valign=\"top\">202006</th>\n",
              "      <th rowspan=\"2\" valign=\"top\">33</th>\n",
              "      <th>강원 춘천시</th>\n",
              "      <td>48.1646</td>\n",
              "      <td>NaN</td>\n",
              "      <td>NaN</td>\n",
              "    </tr>\n",
              "    <tr>\n",
              "      <th>경기 용인시</th>\n",
              "      <td>0.5431</td>\n",
              "      <td>NaN</td>\n",
              "      <td>NaN</td>\n",
              "    </tr>\n",
              "    <tr>\n",
              "      <th>44</th>\n",
              "      <th>경기 용인시</th>\n",
              "      <td>8.8866</td>\n",
              "      <td>NaN</td>\n",
              "      <td>NaN</td>\n",
              "    </tr>\n",
              "    <tr>\n",
              "      <th>55</th>\n",
              "      <th>경기 용인시</th>\n",
              "      <td>1.0783</td>\n",
              "      <td>NaN</td>\n",
              "      <td>NaN</td>\n",
              "    </tr>\n",
              "    <tr>\n",
              "      <th>66</th>\n",
              "      <th>경기 용인시</th>\n",
              "      <td>38.0396</td>\n",
              "      <td>NaN</td>\n",
              "      <td>NaN</td>\n",
              "    </tr>\n",
              "  </tbody>\n",
              "</table>\n",
              "<p>131 rows × 3 columns</p>\n",
              "</div>"
            ],
            "text/plain": [
              "                     Value  YoY  MoM\n",
              "월      항목 지역                        \n",
              "201903 11 경기 용인시    6.8593  NaN  NaN\n",
              "       22 강원 춘천시  120.9270  NaN  NaN\n",
              "          경기 용인시   23.1287  NaN  NaN\n",
              "       33 강원 춘천시   20.6387  NaN  NaN\n",
              "          경기 용인시    0.7368  NaN  NaN\n",
              "...                    ...  ...  ...\n",
              "202006 33 강원 춘천시   48.1646  NaN  NaN\n",
              "          경기 용인시    0.5431  NaN  NaN\n",
              "       44 경기 용인시    8.8866  NaN  NaN\n",
              "       55 경기 용인시    1.0783  NaN  NaN\n",
              "       66 경기 용인시   38.0396  NaN  NaN\n",
              "\n",
              "[131 rows x 3 columns]"
            ]
          },
          "metadata": {
            "tags": []
          },
          "execution_count": 54
        }
      ]
    },
    {
      "cell_type": "code",
      "metadata": {
        "id": "qH-X9MGv0Pg4",
        "colab_type": "code",
        "colab": {
          "base_uri": "https://localhost:8080/",
          "height": 35
        },
        "outputId": "d8e46eb1-2797-45e6-86f3-4ad6ff4c9e2f"
      },
      "source": [
        "print(df.shape)\n",
        "\n"
      ],
      "execution_count": 55,
      "outputs": [
        {
          "output_type": "stream",
          "text": [
            "(131, 3)\n"
          ],
          "name": "stdout"
        }
      ]
    },
    {
      "cell_type": "code",
      "metadata": {
        "id": "Us27gS-m5kNy",
        "colab_type": "code",
        "colab": {
          "base_uri": "https://localhost:8080/",
          "height": 419
        },
        "outputId": "31db91d9-b2a4-4313-91c1-321254dce4f9"
      },
      "source": [
        "df2= df.reset_index()\n",
        "df2"
      ],
      "execution_count": 58,
      "outputs": [
        {
          "output_type": "execute_result",
          "data": {
            "text/html": [
              "<div>\n",
              "<style scoped>\n",
              "    .dataframe tbody tr th:only-of-type {\n",
              "        vertical-align: middle;\n",
              "    }\n",
              "\n",
              "    .dataframe tbody tr th {\n",
              "        vertical-align: top;\n",
              "    }\n",
              "\n",
              "    .dataframe thead th {\n",
              "        text-align: right;\n",
              "    }\n",
              "</style>\n",
              "<table border=\"1\" class=\"dataframe\">\n",
              "  <thead>\n",
              "    <tr style=\"text-align: right;\">\n",
              "      <th></th>\n",
              "      <th>월</th>\n",
              "      <th>항목</th>\n",
              "      <th>지역</th>\n",
              "      <th>Value</th>\n",
              "      <th>YoY</th>\n",
              "      <th>MoM</th>\n",
              "    </tr>\n",
              "  </thead>\n",
              "  <tbody>\n",
              "    <tr>\n",
              "      <th>0</th>\n",
              "      <td>201903</td>\n",
              "      <td>11</td>\n",
              "      <td>경기 용인시</td>\n",
              "      <td>6.8593</td>\n",
              "      <td>NaN</td>\n",
              "      <td>NaN</td>\n",
              "    </tr>\n",
              "    <tr>\n",
              "      <th>1</th>\n",
              "      <td>201903</td>\n",
              "      <td>22</td>\n",
              "      <td>강원 춘천시</td>\n",
              "      <td>120.9270</td>\n",
              "      <td>NaN</td>\n",
              "      <td>NaN</td>\n",
              "    </tr>\n",
              "    <tr>\n",
              "      <th>2</th>\n",
              "      <td>201903</td>\n",
              "      <td>22</td>\n",
              "      <td>경기 용인시</td>\n",
              "      <td>23.1287</td>\n",
              "      <td>NaN</td>\n",
              "      <td>NaN</td>\n",
              "    </tr>\n",
              "    <tr>\n",
              "      <th>3</th>\n",
              "      <td>201903</td>\n",
              "      <td>33</td>\n",
              "      <td>강원 춘천시</td>\n",
              "      <td>20.6387</td>\n",
              "      <td>NaN</td>\n",
              "      <td>NaN</td>\n",
              "    </tr>\n",
              "    <tr>\n",
              "      <th>4</th>\n",
              "      <td>201903</td>\n",
              "      <td>33</td>\n",
              "      <td>경기 용인시</td>\n",
              "      <td>0.7368</td>\n",
              "      <td>NaN</td>\n",
              "      <td>NaN</td>\n",
              "    </tr>\n",
              "    <tr>\n",
              "      <th>...</th>\n",
              "      <td>...</td>\n",
              "      <td>...</td>\n",
              "      <td>...</td>\n",
              "      <td>...</td>\n",
              "      <td>...</td>\n",
              "      <td>...</td>\n",
              "    </tr>\n",
              "    <tr>\n",
              "      <th>126</th>\n",
              "      <td>202006</td>\n",
              "      <td>33</td>\n",
              "      <td>강원 춘천시</td>\n",
              "      <td>48.1646</td>\n",
              "      <td>NaN</td>\n",
              "      <td>NaN</td>\n",
              "    </tr>\n",
              "    <tr>\n",
              "      <th>127</th>\n",
              "      <td>202006</td>\n",
              "      <td>33</td>\n",
              "      <td>경기 용인시</td>\n",
              "      <td>0.5431</td>\n",
              "      <td>NaN</td>\n",
              "      <td>NaN</td>\n",
              "    </tr>\n",
              "    <tr>\n",
              "      <th>128</th>\n",
              "      <td>202006</td>\n",
              "      <td>44</td>\n",
              "      <td>경기 용인시</td>\n",
              "      <td>8.8866</td>\n",
              "      <td>NaN</td>\n",
              "      <td>NaN</td>\n",
              "    </tr>\n",
              "    <tr>\n",
              "      <th>129</th>\n",
              "      <td>202006</td>\n",
              "      <td>55</td>\n",
              "      <td>경기 용인시</td>\n",
              "      <td>1.0783</td>\n",
              "      <td>NaN</td>\n",
              "      <td>NaN</td>\n",
              "    </tr>\n",
              "    <tr>\n",
              "      <th>130</th>\n",
              "      <td>202006</td>\n",
              "      <td>66</td>\n",
              "      <td>경기 용인시</td>\n",
              "      <td>38.0396</td>\n",
              "      <td>NaN</td>\n",
              "      <td>NaN</td>\n",
              "    </tr>\n",
              "  </tbody>\n",
              "</table>\n",
              "<p>131 rows × 6 columns</p>\n",
              "</div>"
            ],
            "text/plain": [
              "          월  항목      지역     Value  YoY  MoM\n",
              "0    201903  11  경기 용인시    6.8593  NaN  NaN\n",
              "1    201903  22  강원 춘천시  120.9270  NaN  NaN\n",
              "2    201903  22  경기 용인시   23.1287  NaN  NaN\n",
              "3    201903  33  강원 춘천시   20.6387  NaN  NaN\n",
              "4    201903  33  경기 용인시    0.7368  NaN  NaN\n",
              "..      ...  ..     ...       ...  ...  ...\n",
              "126  202006  33  강원 춘천시   48.1646  NaN  NaN\n",
              "127  202006  33  경기 용인시    0.5431  NaN  NaN\n",
              "128  202006  44  경기 용인시    8.8866  NaN  NaN\n",
              "129  202006  55  경기 용인시    1.0783  NaN  NaN\n",
              "130  202006  66  경기 용인시   38.0396  NaN  NaN\n",
              "\n",
              "[131 rows x 6 columns]"
            ]
          },
          "metadata": {
            "tags": []
          },
          "execution_count": 58
        }
      ]
    },
    {
      "cell_type": "code",
      "metadata": {
        "id": "RmkNAA7QL-Vd",
        "colab_type": "code",
        "colab": {
          "base_uri": "https://localhost:8080/",
          "height": 235
        },
        "outputId": "d0578cc1-b7ef-40f7-ea7f-933711f109f6"
      },
      "source": [
        "output=pd.DataFrame ( data={'항목':['11','22','33','44','55','66'],\n",
        "                            '지역':['강원 춘천시','강원 춘천시','강원 춘천시','경기 용인시','경기 용인시','경기 용인시']}, columns=['항목', '지역'])\n",
        "output"
      ],
      "execution_count": 63,
      "outputs": [
        {
          "output_type": "execute_result",
          "data": {
            "text/html": [
              "<div>\n",
              "<style scoped>\n",
              "    .dataframe tbody tr th:only-of-type {\n",
              "        vertical-align: middle;\n",
              "    }\n",
              "\n",
              "    .dataframe tbody tr th {\n",
              "        vertical-align: top;\n",
              "    }\n",
              "\n",
              "    .dataframe thead th {\n",
              "        text-align: right;\n",
              "    }\n",
              "</style>\n",
              "<table border=\"1\" class=\"dataframe\">\n",
              "  <thead>\n",
              "    <tr style=\"text-align: right;\">\n",
              "      <th></th>\n",
              "      <th>항목</th>\n",
              "      <th>지역</th>\n",
              "    </tr>\n",
              "  </thead>\n",
              "  <tbody>\n",
              "    <tr>\n",
              "      <th>0</th>\n",
              "      <td>11</td>\n",
              "      <td>강원 춘천시</td>\n",
              "    </tr>\n",
              "    <tr>\n",
              "      <th>1</th>\n",
              "      <td>22</td>\n",
              "      <td>강원 춘천시</td>\n",
              "    </tr>\n",
              "    <tr>\n",
              "      <th>2</th>\n",
              "      <td>33</td>\n",
              "      <td>강원 춘천시</td>\n",
              "    </tr>\n",
              "    <tr>\n",
              "      <th>3</th>\n",
              "      <td>44</td>\n",
              "      <td>경기 용인시</td>\n",
              "    </tr>\n",
              "    <tr>\n",
              "      <th>4</th>\n",
              "      <td>55</td>\n",
              "      <td>경기 용인시</td>\n",
              "    </tr>\n",
              "    <tr>\n",
              "      <th>5</th>\n",
              "      <td>66</td>\n",
              "      <td>경기 용인시</td>\n",
              "    </tr>\n",
              "  </tbody>\n",
              "</table>\n",
              "</div>"
            ],
            "text/plain": [
              "   항목      지역\n",
              "0  11  강원 춘천시\n",
              "1  22  강원 춘천시\n",
              "2  33  강원 춘천시\n",
              "3  44  경기 용인시\n",
              "4  55  경기 용인시\n",
              "5  66  경기 용인시"
            ]
          },
          "metadata": {
            "tags": []
          },
          "execution_count": 63
        }
      ]
    }
  ]
}